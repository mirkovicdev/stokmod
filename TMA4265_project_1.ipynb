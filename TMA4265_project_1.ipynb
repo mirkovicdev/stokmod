{
 "cells": [
  {
   "cell_type": "markdown",
   "id": "71cef830-b11b-42c6-a6ab-c0c25351d4b3",
   "metadata": {},
   "source": [
    "Problem 1"
   ]
  },
  {
   "cell_type": "code",
   "execution_count": 13,
   "id": "0eeef1eb-685d-4db4-9f34-2f73c3e6b8fd",
   "metadata": {},
   "outputs": [],
   "source": [
    "# Sim constants\n",
    "\n",
    "Years = 20\n",
    "Steps = Years * 365\n",
    "\n",
    "# Measles properties\n",
    "beta = 0.01\n",
    "gamma = 0.1\n",
    "alpha = 0.005\n"
   ]
  },
  {
   "cell_type": "markdown",
   "id": "97856d9b-c485-4211-a4aa-ff814bc8416a",
   "metadata": {},
   "source": [
    "Subproblem b:"
   ]
  },
  {
   "cell_type": "code",
   "execution_count": 35,
   "id": "2762550f-a5f2-4d36-ab10-81e8fd9fc26a",
   "metadata": {},
   "outputs": [
    {
     "name": "stdout",
     "output_type": "stream",
     "text": [
      "[1] \"Days in state 0: \"\n",
      "[1] 2357\n",
      "[1] \"Days in state 1: \"\n",
      "[1] 2596\n",
      "[1] \"Days in state 2: \"\n",
      "[1] 2347\n",
      "[1] \"total\"\n",
      "[1] 7300\n"
     ]
    }
   ],
   "source": [
    "# Make markov chain vector\n",
    "\n",
    "\n",
    "run_20_years <- function(Steps) {\n",
    "\n",
    "chain = integer(Steps)\n",
    "\n",
    "\n",
    "    # Simulate over 20 years\n",
    "    for (i in 2:length(chain)) {\n",
    "        # Generate random variable\n",
    "        s = runif(1,0,1)\n",
    "    \n",
    "        # If in state 0\n",
    "        if(chain[i-1] == 0) {\n",
    "            if(s >= beta){\n",
    "                chain[i] = 1\n",
    "                }\n",
    "            else {\n",
    "                chain[i] = 0\n",
    "            }\n",
    "        }\n",
    "    \n",
    "        # If in state 1\n",
    "        if(chain[i-1] == 1) {\n",
    "            if(s >= gamma){\n",
    "                chain[i] = 2\n",
    "                }\n",
    "            else {\n",
    "                chain[i] = 1\n",
    "            }\n",
    "        }\n",
    "        \n",
    "        # If in state 2\n",
    "        if(chain[i-1] == 2) {\n",
    "            if(s >= alpha){\n",
    "                chain[i] = 0\n",
    "                }\n",
    "            else {\n",
    "                chain[i] = 2\n",
    "            }\n",
    "        }\n",
    "    }\n",
    "    return(chain)\n",
    "}\n",
    "\n",
    "chain = run_20_years(Steps)\n",
    "\n",
    "# Count number of days in states\n",
    "days_of_state_0 <- sum(chain == 0)\n",
    "days_of_state_1 <- sum(chain == 1)\n",
    "days_of_state_2 <- sum(chain == 2)\n",
    "\n",
    "print(\"Days in state 0: \")\n",
    "print(days_of_state_0)\n",
    "print(\"Days in state 1: \")\n",
    "print(days_of_state_1)\n",
    "print(\"Days in state 2: \")\n",
    "print(days_of_state_2)\n",
    "\n",
    "print(\"total\")\n",
    "print(days_of_state_0 + days_of_state_1 + days_of_state_2)"
   ]
  },
  {
   "cell_type": "code",
   "execution_count": 36,
   "id": "ce11c592-b6f5-4910-88e8-0e1ea900aba0",
   "metadata": {},
   "outputs": [],
   "source": [
    "# Compute mean days spent in each state from the last 10 years\n",
    "\n",
    "find_mean_days <- function(chain) {\n",
    "\n",
    "mean_time_0 = sum(chain[3651:Steps] == 0) / 10\n",
    "mean_time_1 = sum(chain[3651:Steps] == 1) / 10\n",
    "mean_time_2 = sum(chain[3651:Steps] == 2) / 10\n",
    "print(\"mean days used in state S: \")\n",
    "print(mean_time_0)\n",
    "print(\"mean days used in state I: \")\n",
    "print(mean_time_1)\n",
    "print(\"mean days used in state R: \")\n",
    "print(mean_time_2)\n",
    "    return(mean_time_0,mean_time_1,mean_time2)\n",
    "}\n"
   ]
  },
  {
   "cell_type": "code",
   "execution_count": 37,
   "id": "bcb5f743-1fce-474d-a1d2-251959d591bd",
   "metadata": {},
   "outputs": [],
   "source": [
    "# Simulate 30 iterations and compute CI\n",
    "\n",
    "# Generate 30 \n",
    "for(i in 1:30) {\n",
    "    \n",
    "\n",
    "\n",
    "\n",
    "}"
   ]
  },
  {
   "cell_type": "code",
   "execution_count": null,
   "id": "735b1b33-4313-41ad-8ddf-f0ec4e4704b7",
   "metadata": {},
   "outputs": [],
   "source": []
  }
 ],
 "metadata": {
  "kernelspec": {
   "display_name": "R",
   "language": "R",
   "name": "ir"
  },
  "language_info": {
   "codemirror_mode": "r",
   "file_extension": ".r",
   "mimetype": "text/x-r-source",
   "name": "R",
   "pygments_lexer": "r",
   "version": "4.4.3"
  }
 },
 "nbformat": 4,
 "nbformat_minor": 5
}
